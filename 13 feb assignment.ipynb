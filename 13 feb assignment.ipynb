{
 "cells": [
  {
   "cell_type": "code",
   "execution_count": null,
   "id": "2ff8c4c4-2b9e-4ace-a76a-3d9e53e216a1",
   "metadata": {},
   "outputs": [],
   "source": [
    "Ans = 1\n",
    "The Exception class in Python is the base class for all built-in exceptions. When creating a custom exception in Python,\n",
    "it is recommended to inherit from the Exception class because it provides a standardized interface for working with exceptions.\n",
    "\n",
    "When creating a custom exception, you can define your own attributes and methods in addition to those provided by the Exception class. By inheriting from the Exception class, you can also take advantage of the existing exception handling mechanisms in Python, such as try-except blocks, to handle your custom exceptions in a consistent and predictable way.\n",
    "\n",
    "In summary, using the Exception class while creating a custom exception provides a standardized interface, ensures proper exception handling, and allows for the use of existing exception handling mechanisms in Python"
   ]
  },
  {
   "cell_type": "code",
   "execution_count": null,
   "id": "fc2f5bb7-9e4e-4733-91d1-cae00830f979",
   "metadata": {},
   "outputs": [],
   "source": [
    "Ans = 2\n",
    "class PrintExceptionHierarchy:\n",
    "    def __init__(self):\n",
    "        self.exceptions = []\n",
    "\n",
    "    def print_exceptions(self, exception_class=Exception, indent=0):\n",
    "        # get all direct subclasses of the given exception class\n",
    "        subclasses = exception_class.__subclasses__()\n",
    "\n",
    "        # add the subclasses to the list of exceptions\n",
    "        self.exceptions.extend(subclasses)\n",
    "\n",
    "        # recursively call print_exceptions for each subclass\n",
    "        for subclass in subclasses:\n",
    "            print(' ' * indent + subclass.__name__)\n",
    "            self.print_exceptions(subclass, indent + 4)\n",
    "\n",
    "if __name__ == '__main__':\n",
    "    p = PrintExceptionHierarchy()\n",
    "    p.print_exceptions()\n"
   ]
  },
  {
   "cell_type": "code",
   "execution_count": null,
   "id": "decd1e29-ecba-4267-9f35-71901c6b98f6",
   "metadata": {},
   "outputs": [],
   "source": [
    "Ans = 3\n",
    "1.\n",
    "ZeroDivisionError: This error occurs when a number is divided by zero.\n",
    "ex:\n",
    "a = 10\n",
    "b = 0\n",
    "\n",
    "try:\n",
    "    c = a / b\n",
    "except ZeroDivisionError as error:\n",
    "    print(\"Error:\", error)\n",
    "output :\n",
    "    Error: division by zero\n",
    "\n",
    "2.\n",
    "OverflowError: This error occurs when the result of an arithmetic operation is too large to be represented by the numeric type.\n",
    "ex:\n",
    "import sys\n",
    "\n",
    "a = sys.maxsize # maximum value for integers on this system\n",
    "b = 2\n",
    "\n",
    "try:\n",
    "    c = a * b\n",
    "except OverflowError as error:\n",
    "    print(\"Error:\", error)\n",
    "output:\n",
    "    Error: integer overflow\n"
   ]
  },
  {
   "cell_type": "code",
   "execution_count": null,
   "id": "e739e045-bd0d-4432-b3f0-152e3bad40e5",
   "metadata": {},
   "outputs": [],
   "source": [
    "Ans = 4\n",
    "The LookupError class is a built-in Python exception that is used when an invalid index or key is used to access an element in a sequence, mapping, or other data structure.\n",
    "It is the base class for several other specific lookup error exceptions, including KeyError and IndexError.\n",
    "\n",
    "ex:\n",
    "my_dict = {'a': 1, 'b': 2, 'c': 3}\n",
    "print(my_dict['d'])\n"
   ]
  },
  {
   "cell_type": "code",
   "execution_count": null,
   "id": "dde24249-663c-4a00-ab37-cf896d8e3e5c",
   "metadata": {},
   "outputs": [],
   "source": [
    "Ans = 5\n",
    "ImportError is a built-in Python exception that is raised when an imported module, function, or attribute cannot be found or loaded. This can occur for a variety of reasons, \n",
    "such as a misspelled module name, a missing dependency, or an incorrectly configured Python environment.\n",
    "\n",
    "ModuleNotFoundError is a subclass of ImportError that was introduced in Python 3.6. It is raised specifically when an imported module cannot be found in any of the search paths of the Python interpreter. \n",
    "This can occur when the module is misspelled, not installed, or located in a directory that is not in the search path.\n",
    "\n"
   ]
  },
  {
   "cell_type": "code",
   "execution_count": null,
   "id": "62467cb1-d59e-48f9-95d1-213f0da368ac",
   "metadata": {},
   "outputs": [],
   "source": [
    "Ans = 6\n",
    "Use specific exception types: Instead of catching the generic Exception class, use specific exception types that accurately reflect the type of error being caught. This makes the code easier to read and maintain, and helps to prevent unexpected errors from slipping through.\n",
    "\n",
    "1. \n",
    "Keep exception handling code separate from business logic: Avoid mixing exception handling code with business logic, as this can make the code harder to read and maintain. \n",
    "Instead, handle exceptions in a separate block of code or function that is dedicated to error handling.\n",
    "\n",
    "2. \n",
    "Use the finally block for cleanup code: The finally block is a great place to put code that needs to be executed regardless of whether an exception is thrown or not. \n",
    "This can be useful for releasing resources or closing files, for example.\n",
    "\n",
    "3. \n",
    "Use the with statement for resource management: The with statement is a Python construct that simplifies resource management, such as opening and closing files or network connections.\n",
    "It automatically handles the closing of the resource, even if an exception is raised.\n",
    "\n",
    "4.\n",
    "Avoid using bare except clauses: Using a bare except clause can catch unexpected exceptions that may not be related to the code being executed, making it difficult to debug. \n",
    "Instead, use specific exception types or catch only the exceptions that are known to be raised.\n",
    "\n",
    "5.\n",
    "Provide helpful error messages: When an exception is caught, provide an error message that is clear and informative. \n",
    "This can help with debugging and troubleshooting, and can make the code more user-friendly.\n",
    "\n",
    "6.\n",
    "Use logging to record errors: Using a logging framework, such as Python built-in logging module, can be helpful for recording errors and providing context for debugging. \n",
    "This can be especially useful in production environments where errors need to be tracked and resolved quickly."
   ]
  }
 ],
 "metadata": {
  "kernelspec": {
   "display_name": "Python 3 (ipykernel)",
   "language": "python",
   "name": "python3"
  },
  "language_info": {
   "codemirror_mode": {
    "name": "ipython",
    "version": 3
   },
   "file_extension": ".py",
   "mimetype": "text/x-python",
   "name": "python",
   "nbconvert_exporter": "python",
   "pygments_lexer": "ipython3",
   "version": "3.10.8"
  }
 },
 "nbformat": 4,
 "nbformat_minor": 5
}
